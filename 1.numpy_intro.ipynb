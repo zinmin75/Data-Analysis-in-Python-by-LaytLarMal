{
 "cells": [
  {
   "cell_type": "markdown",
   "id": "b1e7a3f8-4bd5-4ee6-918d-472e2e0f4fdd",
   "metadata": {},
   "source": [
    "# Numpy မိတ်ဆက်\n",
    "\n",
    "![numpy](https://upload.wikimedia.org/wikipedia/commons/thumb/3/31/NumPy_logo_2020.svg/1200px-NumPy_logo_2020.svg.png)"
   ]
  },
  {
   "cell_type": "code",
   "execution_count": 1,
   "id": "7c52b1ab-c6e1-41ce-ab76-b98993d23b37",
   "metadata": {},
   "outputs": [],
   "source": [
    "# import keyword သုံးပြီး numpy import လုပ်ခြင်း \n",
    "import numpy"
   ]
  },
  {
   "cell_type": "code",
   "execution_count": 2,
   "id": "3f0dd225-7074-4d66-b53d-5b61a35a1b0e",
   "metadata": {},
   "outputs": [],
   "source": [
    "# နာမည်တို မှည့်ပြီး import လုပ်ခြင်း\n",
    "import numpy as np"
   ]
  },
  {
   "cell_type": "code",
   "execution_count": 3,
   "id": "ec6f7deb-898e-40cf-a705-c1b61317031f",
   "metadata": {},
   "outputs": [
    {
     "name": "stdout",
     "output_type": "stream",
     "text": [
      "1.26.4\n"
     ]
    }
   ],
   "source": [
    "# NumPy Version စစ်ခြင်း\n",
    "print(np.__version__) # version attribute ကို သုံးပြီး version စစ်နိုင်သည်။"
   ]
  },
  {
   "cell_type": "code",
   "execution_count": 4,
   "id": "e41ff053-0b37-4f8a-8ba9-4b116f8c8238",
   "metadata": {},
   "outputs": [
    {
     "name": "stdout",
     "output_type": "stream",
     "text": [
      "[1 2 3 4 5]\n",
      "<class 'numpy.ndarray'>\n"
     ]
    }
   ],
   "source": [
    "# np.array function ကို သုံးပြီး list မှတစ်ဆင့် ndarray ကို ဖန်တီးထားခြင်း\n",
    "arr = np.array([1, 2, 3, 4, 5]) \n",
    "\n",
    "print(arr)\n",
    "print(type(arr))  "
   ]
  },
  {
   "cell_type": "code",
   "execution_count": 5,
   "id": "31f4da7b-2b9b-4e9b-97fb-ccd4e0c3cc60",
   "metadata": {},
   "outputs": [
    {
     "name": "stdout",
     "output_type": "stream",
     "text": [
      "[1 2 3 4 5]\n",
      "<class 'numpy.ndarray'>\n"
     ]
    }
   ],
   "source": [
    "# tuple မှတစ်ဆင့် ndarray ကို ဖန်တီးခြင်း:\n",
    "arr = np.array((1, 2, 3, 4, 5))\n",
    "\n",
    "print(arr)\n",
    "print(type(arr))  "
   ]
  },
  {
   "cell_type": "markdown",
   "id": "8c175c6a-33ee-441e-8d50-02892ed869eb",
   "metadata": {},
   "source": [
    "# Dimensions in Array (Array အရွယ်အစားများ)\n",
    "\n",
    "``ndim`` attribute ကို သုံးပြီး dimension ဘယ်လောက်ရှိလဲဆိုတာပါကြည့်မယ်။\n",
    "\n",
    "A dimension in arrays is one level of array depth (nested arrays).\n",
    "\n",
    "**nested array: array အတွင်းမှာ array ထပ်တလဲလဲ ရှိနေခြင်းကို ဆိုလိုသည်။**\n",
    "\n",
    "![array dimension](NWTQH.png)"
   ]
  },
  {
   "cell_type": "markdown",
   "id": "5fec076e-dcc6-427b-8da2-cb1406c1e598",
   "metadata": {},
   "source": [
    "## 0-D Arrays\n",
    "တန်ဖိုး တစ်ခုတည်းသာ ပါသည့် array, Scalar ဟုလည်းခေါ်သည်။"
   ]
  },
  {
   "cell_type": "code",
   "execution_count": 6,
   "id": "ea9e6946-1332-4a42-aa5f-85b9ffbb88da",
   "metadata": {},
   "outputs": [
    {
     "name": "stdout",
     "output_type": "stream",
     "text": [
      "42\n",
      "0\n"
     ]
    }
   ],
   "source": [
    "# Create a 0-D array with value 42\n",
    "arr = np.array(42)\n",
    "print(arr) # 42\n",
    "print(arr.ndim) # 0"
   ]
  },
  {
   "cell_type": "markdown",
   "id": "97010ea2-ecf9-43bd-bcf5-f86248cc4f1a",
   "metadata": {},
   "source": [
    "## 1-D Arrays (Vectors)\n",
    "dimension 1 ခု ပါသည့် array ဖြစ်သည်။ uni-dimensional or 1-D array.\n",
    "အသုံးများပြီး အခြေခံအကျဆုံး array ဖြစ်သည်။"
   ]
  },
  {
   "cell_type": "code",
   "execution_count": 7,
   "id": "66d618e1-ad95-48c4-a223-ea3d0afc4a2c",
   "metadata": {},
   "outputs": [
    {
     "name": "stdout",
     "output_type": "stream",
     "text": [
      "[1 2 3 4 5]\n",
      "1\n"
     ]
    }
   ],
   "source": [
    "# Create a 1-D array containing the values 1,2,3,4,5:\n",
    "arr = np.array([1, 2, 3, 4, 5])\n",
    "print(arr) # [1 2 3 4 5]\n",
    "print(arr.ndim) # 1"
   ]
  },
  {
   "cell_type": "markdown",
   "id": "32253034-f9b8-42ab-897f-ddb64475a414",
   "metadata": {},
   "source": [
    "## 2-D Arrays (matrix)\n",
    "dimension 2 ခု ပါသည့် array ဖြစ်သည်။\n",
    "\n",
    "Matrix တွေကို ဖော်ပြသည့် အခါမှာ သုံးသည်။ \n",
    "\n",
    "**data**များကို 2-D Array များဖြင့် အများဆုံးဖော်ပြသည်။\n",
    "\n",
    "**NumPy has a whole sub module dedicated towards matrix operations called numpy.mat**\n",
    "\n",
    "![2d array](https://www.simplilearn.com/ice9/free_resources_article_thumb/need-of-two-dimensional-array.png)"
   ]
  },
  {
   "cell_type": "code",
   "execution_count": 8,
   "id": "b08c1e69-98be-40d2-b3e2-ce638bdca5d0",
   "metadata": {},
   "outputs": [
    {
     "name": "stdout",
     "output_type": "stream",
     "text": [
      "[[1 2 3]\n",
      " [4 5 6]]\n",
      "2\n"
     ]
    }
   ],
   "source": [
    "# Create a 2-D array containing two arrays with the values 1,2,3 and 4,5,6:\n",
    "arr = np.array([[1, 2, 3], [4, 5, 6]])\n",
    "print(arr) # [[1 2 3] [4 5 6]]\n",
    "print(arr.ndim) # 2"
   ]
  },
  {
   "cell_type": "markdown",
   "id": "17834d29-36e7-4322-bb0e-304a35e008ab",
   "metadata": {},
   "source": [
    "## 3-D arrays (tensors)\r\n",
    "dimension 3 ခု ပါသည့် array ဖြစ်သည်။\r\n",
    "\r\n",
    "tensor ဟုလည်းခေါ်သည်။\r\n",
    "\r\n",
    "အထူးသဖြင့် အရောင်ပါသည့် RGB ပုံများသည် 3-D arrays (tensors) များ ဖြစ်က\n",
    "\n",
    "![RGB tensor](https://www.researchgate.net/profile/Bhupendra-Pratap-Singh/publication/282798184/figure/fig15/AS:283989639221249@1444719814399/Color-image-representation-and-RGB-matrix.png)ြသည်။"
   ]
  },
  {
   "cell_type": "code",
   "execution_count": 9,
   "id": "897e06f3-1da0-4bb1-a2cb-1cd77a49ac7b",
   "metadata": {},
   "outputs": [
    {
     "name": "stdout",
     "output_type": "stream",
     "text": [
      "[[[1 2 3]\n",
      "  [4 5 6]]\n",
      "\n",
      " [[1 2 3]\n",
      "  [4 5 6]]]\n",
      "3\n"
     ]
    }
   ],
   "source": [
    "# Create a 3-D array with two 2-D arrays, both containing two arrays with the values 1,2,3 and 4,5,6:\n",
    "arr = np.array([[[1, 2, 3], [4, 5, 6]], [[1, 2, 3], [4, 5, 6]]])\n",
    "\n",
    "print(arr) # [[[1 2 3] [4 5 6]]  [[1 2 3] [4 5 6]]]\n",
    "print(arr.ndim) # 3"
   ]
  },
  {
   "cell_type": "markdown",
   "id": "309020f5-eae2-42c4-af61-38f41173ada0",
   "metadata": {},
   "source": [
    "## Higher Dimensional Arrays (3-D ထက် ပိုလာသည့် array များ)\n",
    "An array can have any number of dimensions.\n",
    "\n",
    "arrayများကို ဖန်တီးစဉ် ndmin argument ကို သုံးပြီး လိုချင်သည့် dimensions(အရွယ်အစား)ကို သတ်မှတ်နိုင်သည်။"
   ]
  },
  {
   "cell_type": "code",
   "execution_count": 10,
   "id": "a76a29d2-512f-4145-be0e-8f99dee4d61b",
   "metadata": {},
   "outputs": [
    {
     "name": "stdout",
     "output_type": "stream",
     "text": [
      "[[[[[1 2 3 4]]]]]\n",
      "number of dimensions : 5\n"
     ]
    }
   ],
   "source": [
    "arr = np.array([1, 2, 3, 4], ndmin=5)\n",
    "\n",
    "print(arr)\n",
    "print('number of dimensions :', arr.ndim)"
   ]
  },
  {
   "cell_type": "markdown",
   "id": "ab3e7471-039d-434d-8c7c-0b9b78ea2a49",
   "metadata": {},
   "source": [
    "# Performance Comparison: NumPy Arrays vs. Python Lists"
   ]
  },
  {
   "cell_type": "code",
   "execution_count": 11,
   "id": "44d624ec-cd4d-4964-a4ef-23d188b4a0c0",
   "metadata": {},
   "outputs": [],
   "source": [
    "import time\n",
    "python_list1 = list(range(10000000))\n",
    "python_list2 = list(range(10000000))\n",
    "\n",
    "np_array1 = np.arange(10000000)\n",
    "np_array2 = np.arange(10000000)"
   ]
  },
  {
   "cell_type": "code",
   "execution_count": 12,
   "id": "daf927cb-c86f-484e-b87e-b549bd111cfd",
   "metadata": {},
   "outputs": [
    {
     "name": "stdout",
     "output_type": "stream",
     "text": [
      "Total time for list operation: 0.648182 seconds\n"
     ]
    }
   ],
   "source": [
    "# Timing Python list operation\n",
    "start_time = time.time()\n",
    "result = [python_list1[i] + python_list2[i] for i in range(len(python_list1))]\n",
    "end_time = time.time()\n",
    "total_time_arr = end_time - start_time\n",
    "print(f\"Total time for list operation: {total_time_arr:.6f} seconds\")"
   ]
  },
  {
   "cell_type": "code",
   "execution_count": 13,
   "id": "e55e54e9-4b28-40d5-8f85-0dc6f424f044",
   "metadata": {},
   "outputs": [
    {
     "name": "stdout",
     "output_type": "stream",
     "text": [
      "Total time for numpy array operation: 0.069773 seconds\n"
     ]
    }
   ],
   "source": [
    "# Timing NumPy array operation\n",
    "start_time = time.time()\n",
    "result = np_array1 + np_array2\n",
    "end_time = time.time()\n",
    "total_time_arr = end_time - start_time\n",
    "print(f\"Total time for numpy array operation: {total_time_arr:.6f} seconds\")"
   ]
  },
  {
   "cell_type": "code",
   "execution_count": null,
   "id": "19453782-10ee-4172-999b-fb14bd6d6528",
   "metadata": {},
   "outputs": [],
   "source": []
  }
 ],
 "metadata": {
  "kernelspec": {
   "display_name": "Python 3 (ipykernel)",
   "language": "python",
   "name": "python3"
  },
  "language_info": {
   "codemirror_mode": {
    "name": "ipython",
    "version": 3
   },
   "file_extension": ".py",
   "mimetype": "text/x-python",
   "name": "python",
   "nbconvert_exporter": "python",
   "pygments_lexer": "ipython3",
   "version": "3.12.2"
  }
 },
 "nbformat": 4,
 "nbformat_minor": 5
}
